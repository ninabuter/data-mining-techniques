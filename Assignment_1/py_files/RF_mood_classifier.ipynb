{
 "cells": [
  {
   "metadata": {
    "ExecuteTime": {
     "end_time": "2024-04-17T10:29:29.305972Z",
     "start_time": "2024-04-17T10:29:27.896095Z"
    }
   },
   "cell_type": "code",
   "source": [
    "import pandas as pd\n",
    "from sklearn.model_selection import train_test_split\n",
    "from sklearn.ensemble import RandomForestClassifier\n",
    "from sklearn.metrics import accuracy_score, roc_auc_score, f1_score\n",
    "import numpy as np\n",
    "from imblearn.over_sampling import RandomOverSampler\n",
    "\n",
    "# Load dataset \n",
    "df = pd.read_csv('dataset_mood_bfill_aggregated.csv')\n",
    "\n",
    "# Drop rows with missing target values\n",
    "df.dropna(subset=['mood'], inplace=True)\n",
    "\n",
    "# Map mood to broader categories\n",
    "def categorize_mood(mood):\n",
    "    if mood <= 6:\n",
    "        return 'Decent'\n",
    "    elif mood <= 8:\n",
    "        return 'Good'\n",
    "    else:\n",
    "        return 'Excellent'\n",
    "\n",
    "df['mood_category'] = df['mood'].apply(categorize_mood)\n",
    "\n",
    "# Oversample the minority classes\n",
    "ros = RandomOverSampler(random_state=42)\n",
    "X_resampled, y_resampled = ros.fit_resample(df.drop(columns=['mood', 'mood_category', 'id', 'time']), df['mood_category'])\n",
    "\n",
    "# Define the window size\n",
    "window_size = 30\n",
    "\n",
    "# Create a rolling window of size 7 for features (X) and target variable (y) for all users\n",
    "X_rolled = []\n",
    "y_rolled = []\n",
    "for user_id, data in df.groupby('id'):\n",
    "    for i in range(len(data) - window_size + 1):\n",
    "        X_rolled.append(data.iloc[i:i+window_size].drop(columns=['mood', 'mood_category', 'id', 'time']).values.flatten())\n",
    "        y_rolled.append(data.iloc[i+window_size-1]['mood_category'])\n",
    "\n",
    "# Convert lists to numpy arrays\n",
    "X_rolled = np.array(X_rolled)\n",
    "y_rolled = np.array(y_rolled)\n",
    "\n",
    "# Split data into training and test sets\n",
    "X_train, X_test, y_train, y_test = train_test_split(X_rolled, y_rolled, test_size=0.2, random_state=42)\n",
    "\n",
    "# Initialize Random Forest classifier\n",
    "rf_classifier = RandomForestClassifier(n_estimators=150, max_depth=20, min_samples_split=2, min_samples_leaf=1)\n",
    "\n",
    "# Train the model\n",
    "rf_classifier.fit(X_train, y_train)\n",
    "\n",
    "# Make predictions on the test set\n",
    "y_pred_test = rf_classifier.predict(X_test)\n",
    "\n",
    "# Evaluate performance on the test set\n",
    "accuracy = accuracy_score(y_test, y_pred_test)\n",
    "try:\n",
    "    auc = roc_auc_score(y_test, rf_classifier.predict_proba(X_test), average='macro', multi_class='ovr')\n",
    "except ValueError:\n",
    "    auc = None \n",
    "f1 = f1_score(y_test, y_pred_test, average='weighted')\n",
    "\n",
    "print(f'Accuracy: {accuracy}')\n",
    "print(f'AUC: {auc}')\n",
    "print(f'F1-score: {f1}')\n"
   ],
   "id": "b4fb474a390e5a52",
   "outputs": [
    {
     "name": "stdout",
     "output_type": "stream",
     "text": [
      "Accuracy: 0.8392857142857143\n",
      "AUC: 0.8467574931019352\n",
      "F1-score: 0.7659500693481276\n"
     ]
    }
   ],
   "execution_count": 57
  },
  {
   "metadata": {
    "ExecuteTime": {
     "end_time": "2024-04-17T10:29:25.209695Z",
     "start_time": "2024-04-17T10:29:25.203436Z"
    }
   },
   "cell_type": "code",
   "source": [],
   "id": "546b7cb707aaf598",
   "outputs": [],
   "execution_count": 56
  },
  {
   "metadata": {},
   "cell_type": "code",
   "outputs": [],
   "execution_count": null,
   "source": [],
   "id": "e6bb1ddb85a28382"
  }
 ],
 "metadata": {
  "kernelspec": {
   "display_name": "Python 3",
   "language": "python",
   "name": "python3"
  },
  "language_info": {
   "codemirror_mode": {
    "name": "ipython",
    "version": 2
   },
   "file_extension": ".py",
   "mimetype": "text/x-python",
   "name": "python",
   "nbconvert_exporter": "python",
   "pygments_lexer": "ipython2",
   "version": "2.7.6"
  }
 },
 "nbformat": 4,
 "nbformat_minor": 5
}
