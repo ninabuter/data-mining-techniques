{
 "cells": [
  {
   "cell_type": "code",
   "id": "initial_id",
   "metadata": {
    "collapsed": true,
    "ExecuteTime": {
     "end_time": "2024-07-02T13:04:02.811606300Z",
     "start_time": "2024-07-02T13:03:53.270484900Z"
    }
   },
   "source": [
    "import pandas as pd\n",
    "from sklearn.model_selection import train_test_split, TimeSeriesSplit, cross_val_score\n",
    "from sklearn.ensemble import RandomForestRegressor\n",
    "from sklearn.metrics import mean_squared_error, mean_absolute_error\n",
    "import numpy as np"
   ],
   "outputs": [],
   "execution_count": 1
  },
  {
   "metadata": {},
   "cell_type": "markdown",
   "source": [],
   "id": "95c56a71b81182"
  },
  {
   "metadata": {
    "ExecuteTime": {
     "end_time": "2024-04-17T10:29:48.169230Z",
     "start_time": "2024-04-17T10:29:33.774871Z"
    }
   },
   "cell_type": "code",
   "source": [
    "import pandas as pd\n",
    "import numpy as np\n",
    "from sklearn.ensemble import RandomForestRegressor\n",
    "from sklearn.metrics import mean_squared_error, mean_absolute_error\n",
    "\n",
    "# Load dataset \n",
    "df = pd.read_csv('dataset_mood_bfill_aggregated.csv')\n",
    "\n",
    "# Drop rows with missing target values\n",
    "df.dropna(subset=['mood'], inplace=True)\n",
    "\n",
    "# Initialize lists to store results\n",
    "mse_list = []\n",
    "mae_list = []\n",
    "rmse_list = []\n",
    "\n",
    "# Create a rolling window of size 7 for features (X) and target variable (y) for all users\n",
    "window_size = 7\n",
    "X_rolled = []\n",
    "y_rolled = []\n",
    "for i in range(len(df) - window_size + 1):\n",
    "    X_rolled.append(df.iloc[i:i+window_size].drop(columns=['mood', 'id', 'time']).values.flatten())\n",
    "    y_rolled.append(df.iloc[i+window_size-1]['mood'])\n",
    "\n",
    "# Convert lists to numpy arrays\n",
    "X_rolled = np.array(X_rolled)\n",
    "y_rolled = np.array(y_rolled)\n",
    "\n",
    "# Define the split index for train-test split\n",
    "split_index = int(len(X_rolled) * 0.8)  # 80% train, 20% test\n",
    "\n",
    "# Split data into training and test sets\n",
    "X_train, X_test = X_rolled[:split_index], X_rolled[split_index:]\n",
    "y_train, y_test = y_rolled[:split_index], y_rolled[split_index:]\n",
    "\n",
    "# Initialize Random Forest regressor\n",
    "rf_regressor = RandomForestRegressor(n_estimators=150, max_depth=20, min_samples_split=2, min_samples_leaf=1)\n",
    "\n",
    "# Train the model\n",
    "rf_regressor.fit(X_train, y_train)\n",
    "\n",
    "# Make predictions on the test set\n",
    "y_pred_test = rf_regressor.predict(X_test)\n",
    "\n",
    "# Evaluate performance on the test set\n",
    "mse_test = mean_squared_error(y_test, y_pred_test)\n",
    "mae_test = mean_absolute_error(y_test, y_pred_test)\n",
    "rmse_test = np.sqrt(mse_test)\n",
    "\n",
    "# Append results to lists\n",
    "mse_list.append(mse_test)\n",
    "mae_list.append(mae_test)\n",
    "rmse_list.append(rmse_test)\n",
    "\n",
    "# Calculate average performance metrics across all users\n",
    "avg_mse = np.mean(mse_list)\n",
    "avg_mae = np.mean(mae_list)\n",
    "avg_rmse = np.mean(rmse_list)\n",
    "\n",
    "print(f'Average Mean Squared Error across all users: {avg_mse}')\n",
    "print(f'Average Mean Absolute Error across all users: {avg_mae}')\n",
    "print(f'Average Root Mean Squared Error across all users: {avg_rmse}')\n"
   ],
   "id": "78418b79271c419f",
   "outputs": [
    {
     "name": "stdout",
     "output_type": "stream",
     "text": [
      "Average Mean Squared Error across all users: 0.4434111846620668\n",
      "Average Mean Absolute Error across all users: 0.5552503639094427\n",
      "Average Root Mean Squared Error across all users: 0.6658912709009384\n"
     ]
    }
   ],
   "execution_count": 63
  },
  {
   "metadata": {
    "ExecuteTime": {
     "end_time": "2024-04-17T09:49:25.746958Z",
     "start_time": "2024-04-17T09:49:25.737736Z"
    }
   },
   "cell_type": "code",
   "source": [
    "# Drop rows with missing target values\n",
    "df.dropna(subset=['mood'], inplace=True)\n",
    "\n",
    "\n",
    "# Calculate total occurrences of each mood score\n",
    "mood_occurrences = df['mood'].value_counts().sort_index()\n",
    "\n",
    "print(\"Total occurrences of each mood score:\")\n",
    "for mood_score, occurrences in mood_occurrences.items():\n",
    "    print(f\"Mood score {mood_score}: {occurrences}\")"
   ],
   "id": "cb9512e55476cbc4",
   "outputs": [
    {
     "name": "stdout",
     "output_type": "stream",
     "text": [
      "Total occurrences of each mood score:\n",
      "Mood score 3.0: 2\n",
      "Mood score 4.0: 8\n",
      "Mood score 5.0: 25\n",
      "Mood score 6.0: 258\n",
      "Mood score 7.0: 679\n",
      "Mood score 8.0: 357\n",
      "Mood score 9.0: 13\n"
     ]
    }
   ],
   "execution_count": 59
  },
  {
   "metadata": {},
   "cell_type": "code",
   "outputs": [],
   "execution_count": null,
   "source": [],
   "id": "d8392fe4ee0b39ad"
  }
 ],
 "metadata": {
  "kernelspec": {
   "display_name": "Python 3",
   "language": "python",
   "name": "python3"
  },
  "language_info": {
   "codemirror_mode": {
    "name": "ipython",
    "version": 2
   },
   "file_extension": ".py",
   "mimetype": "text/x-python",
   "name": "python",
   "nbconvert_exporter": "python",
   "pygments_lexer": "ipython2",
   "version": "2.7.6"
  }
 },
 "nbformat": 4,
 "nbformat_minor": 5
}
