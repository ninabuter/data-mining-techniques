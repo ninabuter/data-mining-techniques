{
 "cells": [
  {
   "cell_type": "code",
   "execution_count": 1,
   "id": "initial_id",
   "metadata": {
    "collapsed": true,
    "ExecuteTime": {
     "end_time": "2024-05-09T11:31:49.044706Z",
     "start_time": "2024-05-09T11:31:47.056320700Z"
    }
   },
   "outputs": [],
   "source": [
    "# Import \n",
    "import pandas as pd\n",
    "import matplotlib.pyplot as plt\n",
    "import seaborn as sns\n",
    "from sklearn.model_selection import train_test_split\n",
    "from sklearn.linear_model import LogisticRegression\n",
    "from sklearn.metrics import accuracy_score, classification_report\n",
    "from catboost import CatBoostClassifier"
   ]
  },
  {
   "cell_type": "code",
   "outputs": [
    {
     "name": "stdout",
     "output_type": "stream",
     "text": [
      "Size: 56623050\n",
      "Shape: (1048575, 54)\n",
      "Number of Dimensions: 2\n"
     ]
    }
   ],
   "source": [
    "# Import training dataset and print some info\n",
    "df = pd.read_csv(\"training_set_VU_DM.csv\")\n",
    "print(\"Size:\", df.size)\n",
    "print(\"Shape:\", df.shape)\n",
    "print(\"Number of Dimensions:\", df.ndim)"
   ],
   "metadata": {
    "collapsed": false,
    "ExecuteTime": {
     "end_time": "2024-05-09T11:32:02.086897Z",
     "start_time": "2024-05-09T11:31:54.160644800Z"
    }
   },
   "id": "b04fb9e8e084b0dd",
   "execution_count": 2
  },
  {
   "cell_type": "code",
   "outputs": [
    {
     "name": "stdout",
     "output_type": "stream",
     "text": [
      "         srch_id            date_time  site_id  visitor_location_country_id  \\\n",
      "0              1  2013-04-04 08:32:15       12                          187   \n",
      "1              1  2013-04-04 08:32:15       12                          187   \n",
      "2              1  2013-04-04 08:32:15       12                          187   \n",
      "3              1  2013-04-04 08:32:15       12                          187   \n",
      "4              1  2013-04-04 08:32:15       12                          187   \n",
      "...          ...                  ...      ...                          ...   \n",
      "1048570    70004  2013-06-01 17:02:13        5                          219   \n",
      "1048571    70004  2013-06-01 17:02:13        5                          219   \n",
      "1048572    70004  2013-06-01 17:02:13        5                          219   \n",
      "1048573    70004  2013-06-01 17:02:13        5                          219   \n",
      "1048574    70004  2013-06-01 17:02:13        5                          219   \n",
      "\n",
      "         visitor_hist_starrating  visitor_hist_adr_usd  prop_country_id  \\\n",
      "0                            NaN                   NaN              219   \n",
      "1                            NaN                   NaN              219   \n",
      "2                            NaN                   NaN              219   \n",
      "3                            NaN                   NaN              219   \n",
      "4                            NaN                   NaN              219   \n",
      "...                          ...                   ...              ...   \n",
      "1048570                      NaN                   NaN              219   \n",
      "1048571                      NaN                   NaN              219   \n",
      "1048572                      NaN                   NaN              219   \n",
      "1048573                      NaN                   NaN              219   \n",
      "1048574                      NaN                   NaN              219   \n",
      "\n",
      "         prop_id  prop_starrating  prop_review_score  ...  \\\n",
      "0            893                3                3.5  ...   \n",
      "1          10404                4                4.0  ...   \n",
      "2          21315                3                4.5  ...   \n",
      "3          27348                2                4.0  ...   \n",
      "4          29604                4                3.5  ...   \n",
      "...          ...              ...                ...  ...   \n",
      "1048570   114721                2                3.5  ...   \n",
      "1048571   119527                4                4.5  ...   \n",
      "1048572   129914                4                4.5  ...   \n",
      "1048573   131493                4                4.5  ...   \n",
      "1048574   133689                4                4.5  ...   \n",
      "\n",
      "         comp6_rate_percent_diff  comp7_rate  comp7_inv  \\\n",
      "0                            NaN         NaN        NaN   \n",
      "1                            NaN         NaN        NaN   \n",
      "2                            NaN         NaN        NaN   \n",
      "3                            NaN         NaN        NaN   \n",
      "4                            NaN         NaN        NaN   \n",
      "...                          ...         ...        ...   \n",
      "1048570                      NaN         NaN        NaN   \n",
      "1048571                      NaN         NaN        NaN   \n",
      "1048572                      NaN         NaN        NaN   \n",
      "1048573                      NaN         NaN        NaN   \n",
      "1048574                      NaN         NaN        NaN   \n",
      "\n",
      "         comp7_rate_percent_diff  comp8_rate  comp8_inv  \\\n",
      "0                            NaN         0.0        0.0   \n",
      "1                            NaN         0.0        0.0   \n",
      "2                            NaN         0.0        0.0   \n",
      "3                            NaN        -1.0        0.0   \n",
      "4                            NaN         0.0        0.0   \n",
      "...                          ...         ...        ...   \n",
      "1048570                      NaN         0.0        0.0   \n",
      "1048571                      NaN         0.0        0.0   \n",
      "1048572                      NaN         NaN        NaN   \n",
      "1048573                      NaN        -1.0        0.0   \n",
      "1048574                      NaN         1.0        0.0   \n",
      "\n",
      "         comp8_rate_percent_diff  click_bool  gross_bookings_usd  booking_bool  \n",
      "0                            NaN           0                 NaN             0  \n",
      "1                            NaN           0                 NaN             0  \n",
      "2                            NaN           0                 NaN             0  \n",
      "3                            5.0           0                 NaN             0  \n",
      "4                            NaN           0                 NaN             0  \n",
      "...                          ...         ...                 ...           ...  \n",
      "1048570                      NaN           0                 NaN             0  \n",
      "1048571                      9.0           0                 NaN             0  \n",
      "1048572                      NaN           0                 NaN             0  \n",
      "1048573                      8.0           0                 NaN             0  \n",
      "1048574                     22.0           0                 NaN             0  \n",
      "\n",
      "[1048575 rows x 54 columns]\n"
     ]
    }
   ],
   "source": [
    "# Print the training dataset\n",
    "print(df)"
   ],
   "metadata": {
    "collapsed": false,
    "ExecuteTime": {
     "end_time": "2024-05-08T16:57:26.517181900Z",
     "start_time": "2024-05-08T16:57:26.213501800Z"
    }
   },
   "id": "f487469e05dbc486",
   "execution_count": 4
  },
  {
   "cell_type": "code",
   "outputs": [
    {
     "data": {
      "text/plain": "srch_id                              0\ndate_time                            0\nsite_id                              0\nvisitor_location_country_id          0\nvisitor_hist_starrating         994835\nvisitor_hist_adr_usd            994638\nprop_country_id                      0\nprop_id                              0\nprop_starrating                      0\nprop_review_score                 1484\nprop_brand_bool                      0\nprop_location_score1                 0\nprop_location_score2            229372\nprop_log_historical_price            0\nposition                             0\nprice_usd                            0\npromotion_flag                       0\nsrch_destination_id                  0\nsrch_length_of_stay                  0\nsrch_booking_window                  0\nsrch_adults_count                    0\nsrch_children_count                  0\nsrch_room_count                      0\nsrch_saturday_night_bool             0\nsrch_query_affinity_score       981100\norig_destination_distance       337001\nrandom_bool                          0\ncomp1_rate                     1024260\ncomp1_inv                      1022207\ncomp1_rate_percent_diff        1029342\ncomp2_rate                      619825\ncomp2_inv                       597214\ncomp2_rate_percent_diff         931121\ncomp3_rate                      723812\ncomp3_inv                       698939\ncomp3_rate_percent_diff         948360\ncomp4_rate                      982781\ncomp4_inv                       975276\ncomp4_rate_percent_diff        1020768\ncomp5_rate                      580242\ncomp5_inv                       551035\ncomp5_rate_percent_diff         871629\ncomp6_rate                      997730\ncomp6_inv                       993328\ncomp6_rate_percent_diff        1028475\ncomp7_rate                      982217\ncomp7_inv                       973740\ncomp7_rate_percent_diff        1019514\ncomp8_rate                      643233\ncomp8_inv                       628074\ncomp8_rate_percent_diff         919122\nclick_bool                           0\ngross_bookings_usd             1019490\nbooking_bool                         0\ndtype: int64"
     },
     "execution_count": 5,
     "metadata": {},
     "output_type": "execute_result"
    }
   ],
   "source": [
    "# Check for missing data\n",
    "df.isnull().sum()\n",
    "# Remove features with high NaN (visitor_hist_starring, visitor_hist_adr_usd, etc.) and impute feature data with low NaN (prop_review_score, prop_location_score2, orig_destination_distance)?"
   ],
   "metadata": {
    "collapsed": false,
    "ExecuteTime": {
     "end_time": "2024-05-08T16:57:26.765780500Z",
     "start_time": "2024-05-08T16:57:26.524181800Z"
    }
   },
   "id": "ced988a7e6218f05",
   "execution_count": 5
  },
  {
   "cell_type": "code",
   "outputs": [
    {
     "name": "stderr",
     "output_type": "stream",
     "text": [
      "C:\\Users\\hattu\\AppData\\Local\\Temp\\ipykernel_15220\\1426068489.py:2: FutureWarning: \n",
      "\n",
      "Passing `palette` without assigning `hue` is deprecated and will be removed in v0.14.0. Assign the `x` variable to `hue` and set `legend=False` for the same effect.\n",
      "\n",
      "  sns.countplot(x='booking_bool',data=df, palette='hls')\n"
     ]
    },
    {
     "data": {
      "text/plain": "<Figure size 640x480 with 1 Axes>",
      "image/png": "[encoded data removed]"
     },
     "metadata": {},
     "output_type": "display_data"
    },
    {
     "data": {
      "text/plain": "booking_bool\n0    1019490\n1      29085\nName: count, dtype: int64"
     },
     "execution_count": 4,
     "metadata": {},
     "output_type": "execute_result"
    }
   ],
   "source": [
    "# Visualize the target variable click_bool (because we want to optimize clicks)\n",
    "sns.countplot(x='booking_bool',data=df, palette='hls')\n",
    "plt.show()\n",
    "df['booking_bool'].value_counts()"
   ],
   "metadata": {
    "collapsed": false,
    "ExecuteTime": {
     "end_time": "2024-05-09T11:32:22.874623700Z",
     "start_time": "2024-05-09T11:32:20.601588800Z"
    }
   },
   "id": "d4f0d2de7c380354",
   "execution_count": 4
  },
  {
   "cell_type": "code",
   "outputs": [
    {
     "name": "stdout",
     "output_type": "stream",
     "text": [
      "Shape: (1048575, 24)\n",
      "Column Names: ['srch_id', 'site_id', 'visitor_location_country_id', 'prop_country_id', 'prop_id', 'prop_starrating', 'prop_review_score', 'prop_brand_bool', 'prop_location_score1', 'prop_log_historical_price', 'position', 'price_usd', 'promotion_flag', 'srch_destination_id', 'srch_length_of_stay', 'srch_booking_window', 'srch_adults_count', 'srch_children_count', 'srch_room_count', 'srch_saturday_night_bool', 'orig_destination_distance', 'random_bool', 'click_bool', 'booking_bool']\n",
      "         srch_id  site_id  visitor_location_country_id  prop_country_id  \\\n",
      "0              1       12                          187              219   \n",
      "1              1       12                          187              219   \n",
      "2              1       12                          187              219   \n",
      "3              1       12                          187              219   \n",
      "4              1       12                          187              219   \n",
      "...          ...      ...                          ...              ...   \n",
      "1048570    70004        5                          219              219   \n",
      "1048571    70004        5                          219              219   \n",
      "1048572    70004        5                          219              219   \n",
      "1048573    70004        5                          219              219   \n",
      "1048574    70004        5                          219              219   \n",
      "\n",
      "         prop_id  prop_starrating  prop_review_score  prop_brand_bool  \\\n",
      "0            893                3                3.5                1   \n",
      "1          10404                4                4.0                1   \n",
      "2          21315                3                4.5                1   \n",
      "3          27348                2                4.0                1   \n",
      "4          29604                4                3.5                1   \n",
      "...          ...              ...                ...              ...   \n",
      "1048570   114721                2                3.5                0   \n",
      "1048571   119527                4                4.5                1   \n",
      "1048572   129914                4                4.5                0   \n",
      "1048573   131493                4                4.5                1   \n",
      "1048574   133689                4                4.5                1   \n",
      "\n",
      "         prop_location_score1  prop_log_historical_price  ...  \\\n",
      "0                        2.83                       4.95  ...   \n",
      "1                        2.20                       5.03  ...   \n",
      "2                        2.20                       4.92  ...   \n",
      "3                        2.83                       4.39  ...   \n",
      "4                        2.64                       4.93  ...   \n",
      "...                       ...                        ...  ...   \n",
      "1048570                  5.18                       4.96  ...   \n",
      "1048571                  5.18                       5.79  ...   \n",
      "1048572                  5.18                       5.75  ...   \n",
      "1048573                  5.19                       5.51  ...   \n",
      "1048574                  5.19                       5.69  ...   \n",
      "\n",
      "         srch_length_of_stay  srch_booking_window  srch_adults_count  \\\n",
      "0                          1                    0                  4   \n",
      "1                          1                    0                  4   \n",
      "2                          1                    0                  4   \n",
      "3                          1                    0                  4   \n",
      "4                          1                    0                  4   \n",
      "...                      ...                  ...                ...   \n",
      "1048570                    4                   35                  2   \n",
      "1048571                    4                   35                  2   \n",
      "1048572                    4                   35                  2   \n",
      "1048573                    4                   35                  2   \n",
      "1048574                    4                   35                  2   \n",
      "\n",
      "         srch_children_count  srch_room_count  srch_saturday_night_bool  \\\n",
      "0                          0                1                         1   \n",
      "1                          0                1                         1   \n",
      "2                          0                1                         1   \n",
      "3                          0                1                         1   \n",
      "4                          0                1                         1   \n",
      "...                      ...              ...                       ...   \n",
      "1048570                    0                1                         1   \n",
      "1048571                    0                1                         1   \n",
      "1048572                    0                1                         1   \n",
      "1048573                    0                1                         1   \n",
      "1048574                    0                1                         1   \n",
      "\n",
      "         orig_destination_distance  random_bool  click_bool  booking_bool  \n",
      "0                              NaN            1           0             0  \n",
      "1                              NaN            1           0             0  \n",
      "2                              NaN            1           0             0  \n",
      "3                              NaN            1           0             0  \n",
      "4                              NaN            1           0             0  \n",
      "...                            ...          ...         ...           ...  \n",
      "1048570                    1728.86            1           0             0  \n",
      "1048571                    1728.54            1           0             0  \n",
      "1048572                    1728.59            1           0             0  \n",
      "1048573                    1728.61            1           0             0  \n",
      "1048574                    1728.74            1           0             0  \n",
      "\n",
      "[1048575 rows x 24 columns]\n"
     ]
    }
   ],
   "source": [
    "# Preprocessing\n",
    "\n",
    "# Drop features with high NaN\n",
    "threshold = 350000\n",
    "df_new = df.dropna(axis=1, thresh=df.shape[0]-threshold)\n",
    "df_new = df_new.drop([\"date_time\", \"prop_location_score2\"], axis=1)\n",
    "\n",
    "# Handle missing values (if any)\n",
    "df_new.fillna(0, inplace=True)\n",
    "\n",
    "print(\"Shape:\", df_new.shape)\n",
    "print(\"Column Names:\", df_new.columns.tolist())\n",
    "print(df_new)"
   ],
   "metadata": {
    "collapsed": false,
    "ExecuteTime": {
     "end_time": "2024-05-08T16:57:29.941627300Z",
     "start_time": "2024-05-08T16:57:29.416815900Z"
    }
   },
   "id": "a06460834b847c83",
   "execution_count": 7
  },
  {
   "cell_type": "markdown",
   "source": [],
   "metadata": {
    "collapsed": false
   },
   "id": "2098524d6c604f3"
  },
  {
   "cell_type": "code",
   "outputs": [
    {
     "name": "stdout",
     "output_type": "stream",
     "text": [
      "(1048575, 23)\n",
      "Number of True values: 1030794\n"
     ]
    }
   ],
   "source": [
    "\n",
    "print(df_new.shape)\n",
    "df_new['Comparison'] = df_new['click_bool'] == df_new['booking_bool']\n",
    "# Count the number of True values in the Comparison column\n",
    "true_count = df_new['Comparison'].sum()\n",
    "\n",
    "print(\"Number of True values:\", true_count)"
   ],
   "metadata": {
    "collapsed": false,
    "ExecuteTime": {
     "end_time": "2024-05-08T18:09:50.043897400Z",
     "start_time": "2024-05-08T18:09:50.023622400Z"
    }
   },
   "id": "df5894aacc23cb8f",
   "execution_count": 17
  },
  {
   "cell_type": "code",
   "outputs": [],
   "source": [],
   "metadata": {
    "collapsed": false
   },
   "id": "4ebbefcca844655a"
  }
 ],
 "metadata": {
  "kernelspec": {
   "display_name": "Python 3",
   "language": "python",
   "name": "python3"
  },
  "language_info": {
   "codemirror_mode": {
    "name": "ipython",
    "version": 2
   },
   "file_extension": ".py",
   "mimetype": "text/x-python",
   "name": "python",
   "nbconvert_exporter": "python",
   "pygments_lexer": "ipython2",
   "version": "2.7.6"
  }
 },
 "nbformat": 4,
 "nbformat_minor": 5
}
